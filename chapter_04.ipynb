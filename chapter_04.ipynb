{
 "cells": [
  {
   "cell_type": "code",
   "execution_count": 10,
   "id": "initial_id",
   "metadata": {
    "collapsed": true,
    "ExecuteTime": {
     "end_time": "2023-08-08T15:08:43.598146Z",
     "start_time": "2023-08-08T15:08:43.593380Z"
    }
   },
   "outputs": [],
   "source": [
    "import pandas as pd\n",
    "desktop=pd.read_csv('data/desktop.csv')\n",
    "laptop=pd.read_csv('data/laptop.csv')"
   ]
  },
  {
   "cell_type": "code",
   "execution_count": 11,
   "outputs": [
    {
     "name": "stdout",
     "output_type": "stream",
     "text": [
      "TtestResult(statistic=-2.109853741030508, pvalue=0.03919630411621093, df=58.0)\n",
      "TtestResult(statistic=-0.7101437106800108, pvalue=0.4804606394128761, df=58.0)\n",
      "TtestResult(statistic=0.20626752311535543, pvalue=0.8373043059847984, df=58.0)\n"
     ]
    }
   ],
   "source": [
    "import scipy.stats\n",
    "print(scipy.stats.ttest_ind(desktop['spending'], laptop['spending']))\n",
    "print(scipy.stats.ttest_ind(desktop['age'], laptop['age']))\n",
    "print(scipy.stats.ttest_ind(desktop['visits'], laptop['visits']))"
   ],
   "metadata": {
    "collapsed": false,
    "ExecuteTime": {
     "end_time": "2023-08-08T15:08:43.608678Z",
     "start_time": "2023-08-08T15:08:43.603645Z"
    }
   },
   "id": "5eea1d4d3acb68d4"
  },
  {
   "cell_type": "code",
   "execution_count": 12,
   "outputs": [],
   "source": [
    "import numpy as np\n",
    "medianAge = np.median(desktop['age'])\n",
    "groupA = desktop.loc[desktop['age'] <= medianAge, :]\n",
    "groupB = desktop.loc[desktop['age'] > medianAge, :]"
   ],
   "metadata": {
    "collapsed": false,
    "ExecuteTime": {
     "end_time": "2023-08-08T15:08:43.611779Z",
     "start_time": "2023-08-08T15:08:43.609214Z"
    }
   },
   "id": "487a6a319d78cc28"
  },
  {
   "cell_type": "code",
   "execution_count": 13,
   "outputs": [],
   "source": [
    "emailResults1 = pd.read_csv('data/emailresults1.csv')\n",
    "groupA_withRevenue = groupA.merge(emailResults1, on='userid')\n",
    "groupB_withRevenue = groupB.merge(emailResults1, on='userid')"
   ],
   "metadata": {
    "collapsed": false,
    "ExecuteTime": {
     "end_time": "2023-08-08T15:08:43.618758Z",
     "start_time": "2023-08-08T15:08:43.612464Z"
    }
   },
   "id": "9d0de6814b7e1b04"
  },
  {
   "cell_type": "code",
   "execution_count": 14,
   "outputs": [
    {
     "data": {
      "text/plain": "TtestResult(statistic=-2.186454851070545, pvalue=0.037300739200382856, df=28.0)"
     },
     "execution_count": 14,
     "metadata": {},
     "output_type": "execute_result"
    }
   ],
   "source": [
    "scipy.stats.ttest_ind(groupA_withRevenue['revenue'], groupB_withRevenue['revenue'])"
   ],
   "metadata": {
    "collapsed": false,
    "ExecuteTime": {
     "end_time": "2023-08-08T15:09:54.244751Z",
     "start_time": "2023-08-08T15:09:54.235428Z"
    }
   },
   "id": "4e750398a818151c"
  },
  {
   "cell_type": "code",
   "execution_count": 15,
   "outputs": [
    {
     "data": {
      "text/plain": "125.0"
     },
     "execution_count": 15,
     "metadata": {},
     "output_type": "execute_result"
    }
   ],
   "source": [
    "np.mean(groupB_withRevenue['revenue'])-np.mean(groupA_withRevenue['revenue'])"
   ],
   "metadata": {
    "collapsed": false,
    "ExecuteTime": {
     "end_time": "2023-08-08T15:11:10.584852Z",
     "start_time": "2023-08-08T15:11:10.577593Z"
    }
   },
   "id": "24a4f24da00d8b50"
  },
  {
   "cell_type": "code",
   "execution_count": 16,
   "outputs": [],
   "source": [
    "np.random.seed(18811015)\n",
    "laptop.loc[:, 'groupAssignment1'] = 1 * (np.random.random(len(laptop.index)) > 0.5)\n",
    "groupC = laptop.loc[laptop['groupAssignment1'] == 0, :].copy()\n",
    "groupD = laptop.loc[laptop['groupAssignment1'] == 1, :].copy()"
   ],
   "metadata": {
    "collapsed": false,
    "ExecuteTime": {
     "end_time": "2023-08-08T16:44:43.209772Z",
     "start_time": "2023-08-08T16:44:43.204734Z"
    }
   },
   "id": "1ce4e5f3e698ab9f"
  },
  {
   "cell_type": "code",
   "execution_count": 17,
   "outputs": [],
   "source": [
    "emailResults2 = pd.read_csv('data/emailresults2.csv')\n",
    "groupC_withRevenue = groupC.merge(emailResults2, on='userid')\n",
    "groupD_withRevenue = groupD.merge(emailResults2, on='userid')"
   ],
   "metadata": {
    "collapsed": false,
    "ExecuteTime": {
     "end_time": "2023-08-08T16:47:34.842315Z",
     "start_time": "2023-08-08T16:47:34.827763Z"
    }
   },
   "id": "830f426ca8f31454"
  },
  {
   "cell_type": "code",
   "execution_count": 19,
   "outputs": [
    {
     "name": "stdout",
     "output_type": "stream",
     "text": [
      "TtestResult(statistic=-2.381320497676198, pvalue=0.024288828555138562, df=28.0)\n",
      "260.3333333333333\n"
     ]
    }
   ],
   "source": [
    "print(scipy.stats.ttest_ind(groupC_withRevenue['revenue'], groupD_withRevenue['revenue']))\n",
    "print(np.mean(groupD_withRevenue['revenue'])-np.mean(groupC_withRevenue['revenue']))"
   ],
   "metadata": {
    "collapsed": false,
    "ExecuteTime": {
     "end_time": "2023-08-08T16:50:39.374776Z",
     "start_time": "2023-08-08T16:50:39.370348Z"
    }
   },
   "id": "8e491c2a6266f7b1"
  },
  {
   "cell_type": "code",
   "execution_count": null,
   "outputs": [],
   "source": [],
   "metadata": {
    "collapsed": false
   },
   "id": "a76ca5f5f2ed9a27"
  }
 ],
 "metadata": {
  "kernelspec": {
   "display_name": "Python 3",
   "language": "python",
   "name": "python3"
  },
  "language_info": {
   "codemirror_mode": {
    "name": "ipython",
    "version": 2
   },
   "file_extension": ".py",
   "mimetype": "text/x-python",
   "name": "python",
   "nbconvert_exporter": "python",
   "pygments_lexer": "ipython2",
   "version": "2.7.6"
  }
 },
 "nbformat": 4,
 "nbformat_minor": 5
}
